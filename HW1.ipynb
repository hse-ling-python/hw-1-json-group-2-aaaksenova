{
 "cells": [
  {
   "cell_type": "markdown",
   "metadata": {},
   "source": [
    "# Домашняя работа 1"
   ]
  },
  {
   "cell_type": "markdown",
   "metadata": {},
   "source": [
    "Аксенова Анна БКЛ182"
   ]
  },
  {
   "cell_type": "markdown",
   "metadata": {},
   "source": [
    "Импортируем библиотеки и модули, которые понадобятся в процессе"
   ]
  },
  {
   "cell_type": "code",
   "execution_count": 1,
   "metadata": {},
   "outputs": [],
   "source": [
    "import json\n",
    "import collections\n",
    "import re"
   ]
  },
  {
   "cell_type": "markdown",
   "metadata": {},
   "source": [
    "Считываем текст и кладем его как список словарей в переменную tweets"
   ]
  },
  {
   "cell_type": "code",
   "execution_count": 2,
   "metadata": {},
   "outputs": [],
   "source": [
    "tweets = ([json.loads(line) for line in \n",
    "           open('hw_3_twitter.json', 'r', encoding='utf-8')])"
   ]
  },
  {
   "cell_type": "markdown",
   "metadata": {},
   "source": [
    "**Задание 1**\n",
    "\n",
    "Каждый твит - отдельный словарь, значит, количество твитов - количество словарей в списке"
   ]
  },
  {
   "cell_type": "code",
   "execution_count": 3,
   "metadata": {},
   "outputs": [
    {
     "name": "stdout",
     "output_type": "stream",
     "text": [
      "Количество твитов: 2556\n"
     ]
    }
   ],
   "source": [
    "print('Количество твитов: ', end='')\n",
    "print(len(tweets))"
   ]
  },
  {
   "cell_type": "markdown",
   "metadata": {},
   "source": [
    "**Задание 2**\n",
    "\n",
    "В удаленных твитах есть ключ *'delete'*. Посчитаем такие твиты и разделим их количество на количество всех твитов"
   ]
  },
  {
   "cell_type": "code",
   "execution_count": 4,
   "metadata": {},
   "outputs": [
    {
     "name": "stdout",
     "output_type": "stream",
     "text": [
      "Процент удаленных твитов: 14.162754303599373%\n"
     ]
    }
   ],
   "source": [
    "deleted = 0  # Счетчик\n",
    "for i in range(len(tweets)):  # Проходимся по всем твитам через индекс, тк tweets - список\n",
    "    if 'delete' in tweets[i].keys():\n",
    "        deleted += 1\n",
    "print('Процент удаленных твитов: ', end='')\n",
    "print(str(deleted / len(tweets) * 100) + '%')"
   ]
  },
  {
   "cell_type": "markdown",
   "metadata": {},
   "source": [
    "**Задание 3**\n",
    "\n",
    "За язык твита отвечает ключ *'lang'*, соберем кучу языков, а потом с помощью *Counter* посчитаем сколько раз встречался каждый язык"
   ]
  },
  {
   "cell_type": "code",
   "execution_count": 5,
   "metadata": {},
   "outputs": [
    {
     "name": "stdout",
     "output_type": "stream",
     "text": [
      "Язык\t\tКоличество твитов\n",
      "en\t\t719\n",
      "ja\t\t438\n",
      "es\t\t173\n",
      "ko\t\t149\n",
      "th\t\t123\n",
      "ar\t\t119\n",
      "und\t\t117\n",
      "in\t\t71\n",
      "pt\t\t69\n",
      "fr\t\t35\n"
     ]
    }
   ],
   "source": [
    "languages = []  # Сюда мы будем складывать языки каждого твита\n",
    "for i in range(len(tweets)):\n",
    "    for key, value in tweets[i].items():\n",
    "        if key == 'lang':\n",
    "            languages.append(value)\n",
    "lang_rates = collections.Counter(languages).most_common()  # Считаем сколько раз встречается каждый язык \n",
    "# и сортируем в порядке убывания частотности\n",
    "print('Язык'+'\\t\\t'+'Количество твитов')\n",
    "for i in range(10):\n",
    "    print(str(lang_rates[i][0]) + '\\t\\t' + str(lang_rates[i][1]))\n"
   ]
  },
  {
   "cell_type": "markdown",
   "metadata": {},
   "source": [
    "**Задание 4**\n",
    "\n",
    "У каждого твита есть id пользователя, его создавшего. Алгоритм решения такой же, как в задании 3"
   ]
  },
  {
   "cell_type": "code",
   "execution_count": 6,
   "metadata": {},
   "outputs": [
    {
     "name": "stdout",
     "output_type": "stream",
     "text": [
      "Количество пользователей, имеющих более одного твита: 25\n"
     ]
    }
   ],
   "source": [
    "users = []  # Складываем сюда id всех пользователей\n",
    "for i in range(len(tweets)):\n",
    "    if 'delete' not in tweets[i].keys():\n",
    "        users.append(tweets[i][\"user\"][\"id\"])\n",
    "users = collections.Counter(users)\n",
    "active_users = 0  # Счетчик\n",
    "for key, value in users.items():\n",
    "    if value > 1: \n",
    "        active_users += 1\n",
    "print('Количество пользователей, имеющих более одного твита:',\n",
    "      active_users)"
   ]
  },
  {
   "cell_type": "markdown",
   "metadata": {},
   "source": [
    "**Задание 5**\n",
    "\n",
    "Хэштэги лежат в *'entities'* в значениях ключа *'hashtags'*. При этом хэштэги - список словарей, который тоже нужно распаковать. Для подсчетов самых популярных хэштегов пользуемся все тем же алгоритмом."
   ]
  },
  {
   "cell_type": "code",
   "execution_count": 7,
   "metadata": {},
   "outputs": [
    {
     "name": "stdout",
     "output_type": "stream",
     "text": [
      "Топ самых популярных хэштегов\n",
      "1. BTS\n",
      "2. 방탄소년단\n",
      "3. AMAs\n",
      "4. 人気投票ガチャ\n",
      "5. 태형\n",
      "6. 뷔\n",
      "7. BTSinChicago\n",
      "8. BTSLoveYourselfTour\n",
      "9. 오늘의방탄\n",
      "10. PledgeForSwachhBharat\n",
      "11. MPN\n",
      "12. PCAs\n",
      "13. V\n",
      "14. 시카고1회차공연\n",
      "15. เป๊กผลิตโชค\n",
      "16. JIMIN\n",
      "17. running\n",
      "18. NCT\n",
      "19. 지민\n",
      "20. WajahmuPlastik\n"
     ]
    }
   ],
   "source": [
    "hashtags = []  # Складываем сюда все хэштеги\n",
    "for i in range(len(tweets)):\n",
    "    if 'delete' not in tweets[i].keys():\n",
    "        hash_list = tweets[i][\"entities\"][\"hashtags\"]\n",
    "        hashtags.extend([hash_list[i][\"text\"] for i in range(len(hash_list))])\n",
    "hashtags = collections.Counter(hashtags).most_common()\n",
    "print('Топ самых популярных хэштегов')\n",
    "for i in range(20):\n",
    "    print(str(i + 1) + '. ' + str(hashtags[i][0]))"
   ]
  },
  {
   "cell_type": "markdown",
   "metadata": {},
   "source": [
    "**Задание 6** \n",
    "\n",
    "*(при поддержке Кати Такташевой)*\n",
    "\n",
    "Найдем самые частотные слова. Текст твита лежит в значении ключа *'text'*, его нужно очистить от пунктуации, ссылок, хэштегов и хэндлов."
   ]
  },
  {
   "cell_type": "code",
   "execution_count": 8,
   "metadata": {},
   "outputs": [],
   "source": [
    "# Переменные, которые понадобятся для очистки текста:\n",
    "punctuation = (list(\"\"\".,…;:!”?$%^&*№()_—=+|[]{}\\/\"<>`~±§«»°1234567890\"\"\") \n",
    "               + ['- ', ' -', ' - ', \" '\", \"' \"]) # не удаляем \"-\", потому что встречается в композитах\n",
    "links = r'http.+?($|\\s)'  # регулярное выражение для удаления ссылок\n",
    "handles = r'@.*?($|\\s)'  # регулярное выражение для удаления хэндлов\n",
    "hashs = r'#.*?($|\\s)'  # регулярное выражение для удаления хэштегов"
   ]
  },
  {
   "cell_type": "code",
   "execution_count": 9,
   "metadata": {},
   "outputs": [
    {
     "name": "stdout",
     "output_type": "stream",
     "text": [
      "Рейтинг частотности слов с количеством вхождений\n",
      "1. the\t\t107\n",
      "2. to\t\t79\n",
      "3. a\t\t68\n",
      "4. i\t\t61\n",
      "5. and\t\t57\n",
      "6. you\t\t45\n",
      "7. is\t\t41\n",
      "8. of\t\t41\n",
      "9. for\t\t40\n",
      "10. it\t\t38\n"
     ]
    }
   ],
   "source": [
    "parced = []  # сюда мы складываем слова\n",
    "for i in range(len(tweets)):\n",
    "    if ((\"retweeted_status\" not in tweets[i].keys()) and (\"quoted_status\" not in tweets[i].keys())\n",
    "        and ('delete' not in tweets[i].keys()) and (tweets[i]['lang'] == 'en')):\n",
    "        text = tweets[i][\"text\"]\n",
    "        for char in punctuation:\n",
    "            text = text.strip().replace(char, '')\n",
    "        text = re.sub(links, r'', text)  # убираем ссылки\n",
    "        text = re.sub(handles, r'', text)  # убираем хэндлы\n",
    "        text = re.sub(hashs, r'', text)  # убираем хэштеги\n",
    "        text = re.sub(r'[^a-zA-Z\\'\\s-]', r'', text) # убираем смайлики и т.п.\n",
    "        text = text.lower()\n",
    "        list_of_words = text.split()\n",
    "        parced.extend(list_of_words)\n",
    "common_words = collections.Counter(parced).most_common()\n",
    "print('Рейтинг частотности слов с количеством вхождений')\n",
    "for i in range(10):\n",
    "    print((str(i + 1) + '. ' + str(common_words[i][0]) \n",
    "           + '\\t\\t' + str(common_words[i][1])))"
   ]
  },
  {
   "cell_type": "markdown",
   "metadata": {},
   "source": [
    "**Задание 7**\n",
    "\n",
    "Найдем количество фолловеров для каждого пользователя (*'user'*). Для этого создадим словарь с ключами - именами пользователей (*'name'*) и значениями - количеством фолловеров (*'follower_count'*). Затем отсортируем словарь по значениям."
   ]
  },
  {
   "cell_type": "code",
   "execution_count": 10,
   "metadata": {},
   "outputs": [
    {
     "name": "stdout",
     "output_type": "stream",
     "text": [
      "Имя пользователя \t Количество фолловеров\n",
      "Filosofía♕ \t\t 2521403\n",
      "FITNESS Magazine \t\t 1491309\n",
      "malaysiakini.com \t\t 1206759\n",
      "NYT Science \t\t 1137374\n",
      "Gramática \t\t 625463\n",
      "TGRT Haber \t\t 392472\n",
      "The Sun Football ⚽ \t\t 383698\n",
      "Melbourne, Australia \t\t 374222\n",
      "Roznama Express \t\t 318189\n",
      "💞 ცųཞɠɛཞცơơɠıɛ 💞 \t\t 311319\n"
     ]
    }
   ],
   "source": [
    "popular_users = {}  # Cловарь для пользователей\n",
    "for i in range(len(tweets)):\n",
    "    if 'delete' not in tweets[i].keys():\n",
    "        popular_users[tweets[i]['user']['name']] = tweets[i]['user']['followers_count']\n",
    "count = 0  # Счетчик для печати\n",
    "print('Имя пользователя', '\\t', 'Количество фолловеров')\n",
    "for user in sorted(popular_users, key=popular_users.get, reverse=True):\n",
    "    print(user, '\\t\\t', popular_users[user])\n",
    "    count += 1\n",
    "    if count == 10:\n",
    "        break"
   ]
  },
  {
   "cell_type": "markdown",
   "metadata": {},
   "source": [
    "**Задание 8**\n",
    "\n",
    "Используемые приложения лежат в значениях ключа *'source'*. При этом упоминания приложений имеют вид *>**Application**</a*."
   ]
  },
  {
   "cell_type": "code",
   "execution_count": 11,
   "metadata": {},
   "outputs": [
    {
     "name": "stdout",
     "output_type": "stream",
     "text": [
      "Топ самых популярных приложений для твитов\n",
      "1. Twitter for iPhone\n",
      "2. Twitter for Android\n",
      "3. Twitter Web Client\n",
      "4. twittbot.net\n",
      "5. Twitter Lite\n",
      "6. Twitter for iPad\n",
      "7. TweetDeck\n",
      "8. Facebook\n",
      "9. IFTTT\n",
      "10. تطبيق قرآني\n"
     ]
    }
   ],
   "source": [
    "apps = [] # Сюда складываем все приложения для твитов\n",
    "for i in range(len(tweets)):\n",
    "    if 'delete' not in tweets[i].keys():\n",
    "        source = tweets[i]['source']\n",
    "        source = re.search(r'>(.+?)</a>', source)\n",
    "        apps.append(source.group(1))\n",
    "apps = collections.Counter(apps).most_common()\n",
    "print('Топ самых популярных приложений для твитов')\n",
    "for i in range(10):\n",
    "    print(str(i + 1) + '. ' + apps[i][0])"
   ]
  }
 ],
 "metadata": {
  "kernelspec": {
   "display_name": "Python 3",
   "language": "python",
   "name": "python3"
  },
  "language_info": {
   "codemirror_mode": {
    "name": "ipython",
    "version": 3
   },
   "file_extension": ".py",
   "mimetype": "text/x-python",
   "name": "python",
   "nbconvert_exporter": "python",
   "pygments_lexer": "ipython3",
   "version": "3.6.8"
  }
 },
 "nbformat": 4,
 "nbformat_minor": 2
}
